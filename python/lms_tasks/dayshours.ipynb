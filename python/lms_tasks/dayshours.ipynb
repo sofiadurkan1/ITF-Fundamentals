{
  "nbformat": 4,
  "nbformat_minor": 0,
  "metadata": {
    "colab": {
      "name": "dayshours.ipynb",
      "provenance": [],
      "authorship_tag": "ABX9TyOgTPFWYzsbQ4FykCPe+Im8",
      "include_colab_link": true
    },
    "kernelspec": {
      "name": "python3",
      "display_name": "Python 3"
    },
    "language_info": {
      "name": "python"
    }
  },
  "cells": [
    {
      "cell_type": "markdown",
      "metadata": {
        "id": "view-in-github",
        "colab_type": "text"
      },
      "source": [
        "<a href=\"https://colab.research.google.com/github/fatihtepe/allminor_tasks/blob/main/dayshours.ipynb\" target=\"_parent\"><img src=\"https://colab.research.google.com/assets/colab-badge.svg\" alt=\"Open In Colab\"/></a>"
      ]
    },
    {
      "cell_type": "code",
      "metadata": {
        "colab": {
          "base_uri": "https://localhost:8080/"
        },
        "id": "uuaE2uRUQSuu",
        "outputId": "f79069d3-4b03-40fc-975b-f8b6c1decc09"
      },
      "source": [
        "calculation_to_units = 24\n",
        "name_of_unit = 'hours'\n",
        "\n",
        "\n",
        "def days_to_units(num_of_days):\n",
        "    if num_of_days > 0:\n",
        "        return f'{num_of_days} days are {num_of_days * calculation_to_units} {name_of_unit}'\n",
        "\n",
        "\n",
        "def validate_and_execute():\n",
        "    if user_input.isdigit():\n",
        "        user_input_number = int(user_input)\n",
        "        if user_input_number > 0:\n",
        "            calculated_value = days_to_units(user_input_number)\n",
        "            print(calculated_value)\n",
        "        elif user_input_number == 0:\n",
        "            return 'you entered a 0, please enter a valid positive number'\n",
        "    else:\n",
        "        print('your input is not number. Don\\'t ruin my program')\n",
        "\n",
        "\n",
        "user_input = input('Hey user, enter a number of days and I will convert it to hours!\\n')\n",
        "validate_and_execute()"
      ],
      "execution_count": 1,
      "outputs": [
        {
          "output_type": "stream",
          "text": [
            "Hey user, enter a number of days and I will convert it to hours!\n",
            "10\n",
            "10 days are 240 hours\n"
          ],
          "name": "stdout"
        }
      ]
    }
  ]
}