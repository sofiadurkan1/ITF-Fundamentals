{
  "nbformat": 4,
  "nbformat_minor": 0,
  "metadata": {
    "colab": {
      "name": "Assignments.ipynb",
      "provenance": [],
      "collapsed_sections": [],
      "authorship_tag": "ABX9TyP5aQJHI6c+0oR/WHaMP5FH",
      "include_colab_link": true
    },
    "kernelspec": {
      "name": "python3",
      "display_name": "Python 3"
    },
    "language_info": {
      "name": "python"
    }
  },
  "cells": [
    {
      "cell_type": "markdown",
      "metadata": {
        "id": "view-in-github",
        "colab_type": "text"
      },
      "source": [
        "<a href=\"https://colab.research.google.com/github/fatihtepe/hello-world/blob/main/Assignments.ipynb\" target=\"_parent\"><img src=\"https://colab.research.google.com/assets/colab-badge.svg\" alt=\"Open In Colab\"/></a>"
      ]
    },
    {
      "cell_type": "markdown",
      "metadata": {
        "id": "vQOURluIEyxi"
      },
      "source": [
        "Assignment-008/1 (Profit Calculator)\n",
        "Problem : If you had deposited a coin on the cryptocurrency exchange that brought 7% fixed profit daily for a week, how much would your $ 1000 reach at the end of the 7th day?\n"
      ]
    },
    {
      "cell_type": "code",
      "metadata": {
        "colab": {
          "base_uri": "https://localhost:8080/"
        },
        "id": "H3HO0TeC7NUd",
        "outputId": "5b77cb08-42be-4ed2-9dcc-fb6321c7798b"
      },
      "source": [
        "capital = int(input('Please Enter Investment Amount Value ($): '))\n",
        "profit_rate = 0.07\n",
        "\n",
        "capital += capital * profit_rate # day 1\n",
        "capital += capital * profit_rate # day 2\n",
        "capital += capital * profit_rate # day 3\n",
        "capital += capital * profit_rate # day 4\n",
        "capital += capital * profit_rate # day 5\n",
        "capital += capital * profit_rate # day 6\n",
        "capital += capital * profit_rate # day 7\n",
        "\n",
        "\n",
        "print('You will have ($):', '%6.2f' % capital, 'at the 7th day!')"
      ],
      "execution_count": null,
      "outputs": [
        {
          "output_type": "stream",
          "text": [
            "Please Enter Investment Amount Value ($): 1000\n",
            "You will have ($): 1605.78 at the 7th day!\n"
          ],
          "name": "stdout"
        }
      ]
    },
    {
      "cell_type": "markdown",
      "metadata": {
        "id": "pZS6caMGFNR8"
      },
      "source": [
        "Assignment-008/2 (Measure Converter)\n",
        "Task-1:\n",
        "\n",
        "Write a short Python program that asks the user to enter Celsius temperature (it can be a decimal number), converts the entered temperature into Fahrenheit degree and prints the result.\n",
        "\n",
        "Task-2:\n",
        "Write a short Python program that asks the user to enter a distance (it can be a decimal number) in kilometers, converts the entered distance into miles and prints the result."
      ]
    },
    {
      "cell_type": "code",
      "metadata": {
        "id": "e4o0uuwXFVN2",
        "colab": {
          "base_uri": "https://localhost:8080/"
        },
        "outputId": "e5ef3cf2-5cea-4495-e40c-1d03e5f059e2"
      },
      "source": [
        "celcius = float(input('Please enter temperature in celsius: '))\n",
        "fahrenheit = (celcius * 1.8) + 32\n",
        "fahrenheit = '%.2f Celcius is equal to %.2f Fahrenheit' % (celcius, fahrenheit)\n",
        "print(fahrenheit)"
      ],
      "execution_count": null,
      "outputs": [
        {
          "output_type": "stream",
          "text": [
            "Please enter temperature in celsius: 15\n",
            "15.00 Celcius is equal to 59.00 Fahrenheit\n"
          ],
          "name": "stdout"
        }
      ]
    },
    {
      "cell_type": "code",
      "metadata": {
        "id": "nkOZa_o9FY2c",
        "colab": {
          "base_uri": "https://localhost:8080/"
        },
        "outputId": "1f43836f-1219-4a62-8377-20bb19783db1"
      },
      "source": [
        "kilometer = float(input('Please enter distance in kilometer(s): '))\n",
        "mile = (kilometer * 0.621371)\n",
        "mile = '%.2f kilometer(s) is equal to %.2f mile(s)' % (kilometer, mile)\n",
        "print(mile)"
      ],
      "execution_count": null,
      "outputs": [
        {
          "output_type": "stream",
          "text": [
            "Please enter distance in kilometer(s): 53\n",
            "53.00 kilometer(s) is equal to 32.93 mile(s)\n"
          ],
          "name": "stdout"
        }
      ]
    },
    {
      "cell_type": "markdown",
      "metadata": {
        "id": "w5pBsb6KFgmA"
      },
      "source": [
        "Assignment-008/3 (Covid-19 Risk)\n",
        "Problem :\n",
        "\n",
        "Task : Estimating the risk of death from coronavirus.\n",
        "\n",
        "Consider the following questions in terms of True/False regarding anyone else.\n",
        "\n",
        "Are you a cigarette addict older than 75 years old? Variable → age\n",
        "\n",
        "Do you have a severe chronic disease? Variable → chronic\n",
        "\n",
        "Is your immune system too weak? Variable → immune\n",
        "\n",
        "Set a logical algorithm using boolean logic operators (and/or) and the given variables in order to give us True (there is a risk of death) or False (there is not a risk of death) as a result.\n",
        "\n",
        "age =  # can be assigned only True/False\n",
        "chronic =  # can be assigned only True/False\n",
        "immune =  # can be assigned only True/False\n",
        "risk = ? (True or False)"
      ]
    },
    {
      "cell_type": "code",
      "metadata": {
        "id": "whVtNzPiFsRY",
        "colab": {
          "base_uri": "https://localhost:8080/"
        },
        "outputId": "4da10394-da31-4896-c38d-1407812af47f"
      },
      "source": [
        "age = True  \n",
        "chronic = False\n",
        "immune = False\n",
        "risk = age or chronic or immune\n",
        "print(risk)\n"
      ],
      "execution_count": null,
      "outputs": [
        {
          "output_type": "stream",
          "text": [
            "True\n"
          ],
          "name": "stdout"
        }
      ]
    }
  ]
}
