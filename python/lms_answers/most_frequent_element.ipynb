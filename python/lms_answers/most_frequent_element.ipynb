{
  "nbformat": 4,
  "nbformat_minor": 0,
  "metadata": {
    "colab": {
      "name": "most_frequent_element.ipynb",
      "provenance": [],
      "authorship_tag": "ABX9TyPH8/rrSuEnbJouaJIDIYLl",
      "include_colab_link": true
    },
    "kernelspec": {
      "name": "python3",
      "display_name": "Python 3"
    },
    "language_info": {
      "name": "python"
    }
  },
  "cells": [
    {
      "cell_type": "markdown",
      "metadata": {
        "id": "view-in-github",
        "colab_type": "text"
      },
      "source": [
        "<a href=\"https://colab.research.google.com/github/fatihtepe/allminor_tasks/blob/main/most_frequent_element.ipynb\" target=\"_parent\"><img src=\"https://colab.research.google.com/assets/colab-badge.svg\" alt=\"Open In Colab\"/></a>"
      ]
    },
    {
      "cell_type": "markdown",
      "metadata": {
        "id": "ehs-LVTE2mG1"
      },
      "source": [
        "Assignment-008/1 (The Most Frequent Element)\n",
        "Write a program that;\n",
        "\n",
        "Finds out the most frequent number in the given list. Calculates its frequency.\n",
        "\n",
        "Given list numbers = [1, 3, 7, 4, 3, 0, 3, 6, 3]\n",
        "\n",
        "Desired Output: the most frequent number is 3 and it was 4 times repeated\n",
        "\n",
        "Note : You can/should use useful/necessary built-in functions and methods of the list operation."
      ]
    },
    {
      "cell_type": "code",
      "metadata": {
        "colab": {
          "base_uri": "https://localhost:8080/"
        },
        "id": "r75ta1ch1zMQ",
        "outputId": "a9723b5b-b7eb-40d8-897e-8b58f1424d0b"
      },
      "source": [
        "\n",
        "from collections import Counter\n",
        "numbers = [1, 3, 7, 4, 3, 0, 3, 6, 3]\n",
        "the = Counter(numbers)\n",
        "\n",
        "print(f'the most frequent number is {the.most_common(1)[0][0]} and it was\\\n",
        " {the.most_common(1)[0][1]} times repeated')\n",
        "\n"
      ],
      "execution_count": 3,
      "outputs": [
        {
          "output_type": "stream",
          "text": [
            "the most frequent number is 3 and it was 4 times repeated\n"
          ],
          "name": "stdout"
        }
      ]
    }
  ]
}